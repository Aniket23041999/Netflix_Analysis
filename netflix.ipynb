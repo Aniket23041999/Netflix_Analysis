{
 "cells": [
  {
   "cell_type": "markdown",
   "id": "ba1c7169",
   "metadata": {},
   "source": [
    "# We will analyse the Netflix data set and try to bring out some important insights from it."
   ]
  },
  {
   "cell_type": "code",
   "execution_count": 1,
   "id": "0e23b255",
   "metadata": {},
   "outputs": [],
   "source": [
    "import numpy as np\n",
    "import pandas as pd\n",
    "import seaborn as sns\n",
    "import warnings\n",
    "warnings.filterwarnings('ignore')\n",
    "import matplotlib.pyplot as plt\n",
    "import plotly.express as px \n",
    "from plotly.figure_factory import create_table"
   ]
  },
  {
   "cell_type": "code",
   "execution_count": 2,
   "id": "597a2f38",
   "metadata": {},
   "outputs": [],
   "source": [
    "df=pd.read_csv(\"C:/Users/ANIKET/Downloads/Netflix1.csv\")"
   ]
  },
  {
   "cell_type": "code",
   "execution_count": 3,
   "id": "16335a8b",
   "metadata": {},
   "outputs": [],
   "source": [
    "# The data set has 12 coloumns and 8806 rows."
   ]
  },
  {
   "cell_type": "code",
   "execution_count": 4,
   "id": "6be65276",
   "metadata": {},
   "outputs": [
    {
     "data": {
      "text/html": [
       "<div>\n",
       "<style scoped>\n",
       "    .dataframe tbody tr th:only-of-type {\n",
       "        vertical-align: middle;\n",
       "    }\n",
       "\n",
       "    .dataframe tbody tr th {\n",
       "        vertical-align: top;\n",
       "    }\n",
       "\n",
       "    .dataframe thead th {\n",
       "        text-align: right;\n",
       "    }\n",
       "</style>\n",
       "<table border=\"1\" class=\"dataframe\">\n",
       "  <thead>\n",
       "    <tr style=\"text-align: right;\">\n",
       "      <th></th>\n",
       "      <th>show_id</th>\n",
       "      <th>type</th>\n",
       "      <th>title</th>\n",
       "      <th>director</th>\n",
       "      <th>cast</th>\n",
       "      <th>country</th>\n",
       "      <th>date_added</th>\n",
       "      <th>release_year</th>\n",
       "      <th>rating</th>\n",
       "      <th>duration</th>\n",
       "      <th>listed_in</th>\n",
       "      <th>description</th>\n",
       "    </tr>\n",
       "  </thead>\n",
       "  <tbody>\n",
       "    <tr>\n",
       "      <th>0</th>\n",
       "      <td>s1</td>\n",
       "      <td>Movie</td>\n",
       "      <td>Dick Johnson Is Dead</td>\n",
       "      <td>Kirsten Johnson</td>\n",
       "      <td>NaN</td>\n",
       "      <td>United States</td>\n",
       "      <td>September 25, 2021</td>\n",
       "      <td>2020</td>\n",
       "      <td>PG-13</td>\n",
       "      <td>90 min</td>\n",
       "      <td>Documentaries</td>\n",
       "      <td>As her father nears the end of his life, filmm...</td>\n",
       "    </tr>\n",
       "    <tr>\n",
       "      <th>1</th>\n",
       "      <td>s2</td>\n",
       "      <td>TV Show</td>\n",
       "      <td>Blood &amp; Water</td>\n",
       "      <td>NaN</td>\n",
       "      <td>Ama Qamata, Khosi Ngema, Gail Mabalane, Thaban...</td>\n",
       "      <td>South Africa</td>\n",
       "      <td>September 24, 2021</td>\n",
       "      <td>2021</td>\n",
       "      <td>TV-MA</td>\n",
       "      <td>2 Seasons</td>\n",
       "      <td>International TV Shows, TV Dramas, TV Mysteries</td>\n",
       "      <td>After crossing paths at a party, a Cape Town t...</td>\n",
       "    </tr>\n",
       "    <tr>\n",
       "      <th>2</th>\n",
       "      <td>s3</td>\n",
       "      <td>TV Show</td>\n",
       "      <td>Ganglands</td>\n",
       "      <td>Julien Leclercq</td>\n",
       "      <td>Sami Bouajila, Tracy Gotoas, Samuel Jouy, Nabi...</td>\n",
       "      <td>NaN</td>\n",
       "      <td>September 24, 2021</td>\n",
       "      <td>2021</td>\n",
       "      <td>TV-MA</td>\n",
       "      <td>1 Season</td>\n",
       "      <td>Crime TV Shows, International TV Shows, TV Act...</td>\n",
       "      <td>To protect his family from a powerful drug lor...</td>\n",
       "    </tr>\n",
       "    <tr>\n",
       "      <th>3</th>\n",
       "      <td>s4</td>\n",
       "      <td>TV Show</td>\n",
       "      <td>Jailbirds New Orleans</td>\n",
       "      <td>NaN</td>\n",
       "      <td>NaN</td>\n",
       "      <td>NaN</td>\n",
       "      <td>September 24, 2021</td>\n",
       "      <td>2021</td>\n",
       "      <td>TV-MA</td>\n",
       "      <td>1 Season</td>\n",
       "      <td>Docuseries, Reality TV</td>\n",
       "      <td>Feuds, flirtations and toilet talk go down amo...</td>\n",
       "    </tr>\n",
       "    <tr>\n",
       "      <th>4</th>\n",
       "      <td>s5</td>\n",
       "      <td>TV Show</td>\n",
       "      <td>Kota Factory</td>\n",
       "      <td>NaN</td>\n",
       "      <td>Mayur More, Jitendra Kumar, Ranjan Raj, Alam K...</td>\n",
       "      <td>India</td>\n",
       "      <td>September 24, 2021</td>\n",
       "      <td>2021</td>\n",
       "      <td>TV-MA</td>\n",
       "      <td>2 Seasons</td>\n",
       "      <td>International TV Shows, Romantic TV Shows, TV ...</td>\n",
       "      <td>In a city of coaching centers known to train I...</td>\n",
       "    </tr>\n",
       "    <tr>\n",
       "      <th>...</th>\n",
       "      <td>...</td>\n",
       "      <td>...</td>\n",
       "      <td>...</td>\n",
       "      <td>...</td>\n",
       "      <td>...</td>\n",
       "      <td>...</td>\n",
       "      <td>...</td>\n",
       "      <td>...</td>\n",
       "      <td>...</td>\n",
       "      <td>...</td>\n",
       "      <td>...</td>\n",
       "      <td>...</td>\n",
       "    </tr>\n",
       "    <tr>\n",
       "      <th>8802</th>\n",
       "      <td>s8803</td>\n",
       "      <td>Movie</td>\n",
       "      <td>Zodiac</td>\n",
       "      <td>David Fincher</td>\n",
       "      <td>Mark Ruffalo, Jake Gyllenhaal, Robert Downey J...</td>\n",
       "      <td>United States</td>\n",
       "      <td>November 20, 2019</td>\n",
       "      <td>2007</td>\n",
       "      <td>R</td>\n",
       "      <td>158 min</td>\n",
       "      <td>Cult Movies, Dramas, Thrillers</td>\n",
       "      <td>A political cartoonist, a crime reporter and a...</td>\n",
       "    </tr>\n",
       "    <tr>\n",
       "      <th>8803</th>\n",
       "      <td>s8804</td>\n",
       "      <td>TV Show</td>\n",
       "      <td>Zombie Dumb</td>\n",
       "      <td>NaN</td>\n",
       "      <td>NaN</td>\n",
       "      <td>NaN</td>\n",
       "      <td>July 1, 2019</td>\n",
       "      <td>2018</td>\n",
       "      <td>TV-Y7</td>\n",
       "      <td>2 Seasons</td>\n",
       "      <td>Kids' TV, Korean TV Shows, TV Comedies</td>\n",
       "      <td>While living alone in a spooky town, a young g...</td>\n",
       "    </tr>\n",
       "    <tr>\n",
       "      <th>8804</th>\n",
       "      <td>s8805</td>\n",
       "      <td>Movie</td>\n",
       "      <td>Zombieland</td>\n",
       "      <td>Ruben Fleischer</td>\n",
       "      <td>Jesse Eisenberg, Woody Harrelson, Emma Stone, ...</td>\n",
       "      <td>United States</td>\n",
       "      <td>November 1, 2019</td>\n",
       "      <td>2009</td>\n",
       "      <td>R</td>\n",
       "      <td>88 min</td>\n",
       "      <td>Comedies, Horror Movies</td>\n",
       "      <td>Looking to survive in a world taken over by zo...</td>\n",
       "    </tr>\n",
       "    <tr>\n",
       "      <th>8805</th>\n",
       "      <td>s8806</td>\n",
       "      <td>Movie</td>\n",
       "      <td>Zoom</td>\n",
       "      <td>Peter Hewitt</td>\n",
       "      <td>Tim Allen, Courteney Cox, Chevy Chase, Kate Ma...</td>\n",
       "      <td>United States</td>\n",
       "      <td>January 11, 2020</td>\n",
       "      <td>2006</td>\n",
       "      <td>PG</td>\n",
       "      <td>88 min</td>\n",
       "      <td>Children &amp; Family Movies, Comedies</td>\n",
       "      <td>Dragged from civilian life, a former superhero...</td>\n",
       "    </tr>\n",
       "    <tr>\n",
       "      <th>8806</th>\n",
       "      <td>s8807</td>\n",
       "      <td>Movie</td>\n",
       "      <td>Zubaan</td>\n",
       "      <td>Mozez Singh</td>\n",
       "      <td>Vicky Kaushal, Sarah-Jane Dias, Raaghav Chanan...</td>\n",
       "      <td>India</td>\n",
       "      <td>March 2, 2019</td>\n",
       "      <td>2015</td>\n",
       "      <td>TV-14</td>\n",
       "      <td>111 min</td>\n",
       "      <td>Dramas, International Movies, Music &amp; Musicals</td>\n",
       "      <td>A scrappy but poor boy worms his way into a ty...</td>\n",
       "    </tr>\n",
       "  </tbody>\n",
       "</table>\n",
       "<p>8807 rows × 12 columns</p>\n",
       "</div>"
      ],
      "text/plain": [
       "     show_id     type                  title         director  \\\n",
       "0         s1    Movie   Dick Johnson Is Dead  Kirsten Johnson   \n",
       "1         s2  TV Show          Blood & Water              NaN   \n",
       "2         s3  TV Show              Ganglands  Julien Leclercq   \n",
       "3         s4  TV Show  Jailbirds New Orleans              NaN   \n",
       "4         s5  TV Show           Kota Factory              NaN   \n",
       "...      ...      ...                    ...              ...   \n",
       "8802   s8803    Movie                 Zodiac    David Fincher   \n",
       "8803   s8804  TV Show            Zombie Dumb              NaN   \n",
       "8804   s8805    Movie             Zombieland  Ruben Fleischer   \n",
       "8805   s8806    Movie                   Zoom     Peter Hewitt   \n",
       "8806   s8807    Movie                 Zubaan      Mozez Singh   \n",
       "\n",
       "                                                   cast        country  \\\n",
       "0                                                   NaN  United States   \n",
       "1     Ama Qamata, Khosi Ngema, Gail Mabalane, Thaban...   South Africa   \n",
       "2     Sami Bouajila, Tracy Gotoas, Samuel Jouy, Nabi...            NaN   \n",
       "3                                                   NaN            NaN   \n",
       "4     Mayur More, Jitendra Kumar, Ranjan Raj, Alam K...          India   \n",
       "...                                                 ...            ...   \n",
       "8802  Mark Ruffalo, Jake Gyllenhaal, Robert Downey J...  United States   \n",
       "8803                                                NaN            NaN   \n",
       "8804  Jesse Eisenberg, Woody Harrelson, Emma Stone, ...  United States   \n",
       "8805  Tim Allen, Courteney Cox, Chevy Chase, Kate Ma...  United States   \n",
       "8806  Vicky Kaushal, Sarah-Jane Dias, Raaghav Chanan...          India   \n",
       "\n",
       "              date_added  release_year rating   duration  \\\n",
       "0     September 25, 2021          2020  PG-13     90 min   \n",
       "1     September 24, 2021          2021  TV-MA  2 Seasons   \n",
       "2     September 24, 2021          2021  TV-MA   1 Season   \n",
       "3     September 24, 2021          2021  TV-MA   1 Season   \n",
       "4     September 24, 2021          2021  TV-MA  2 Seasons   \n",
       "...                  ...           ...    ...        ...   \n",
       "8802   November 20, 2019          2007      R    158 min   \n",
       "8803        July 1, 2019          2018  TV-Y7  2 Seasons   \n",
       "8804    November 1, 2019          2009      R     88 min   \n",
       "8805    January 11, 2020          2006     PG     88 min   \n",
       "8806       March 2, 2019          2015  TV-14    111 min   \n",
       "\n",
       "                                              listed_in  \\\n",
       "0                                         Documentaries   \n",
       "1       International TV Shows, TV Dramas, TV Mysteries   \n",
       "2     Crime TV Shows, International TV Shows, TV Act...   \n",
       "3                                Docuseries, Reality TV   \n",
       "4     International TV Shows, Romantic TV Shows, TV ...   \n",
       "...                                                 ...   \n",
       "8802                     Cult Movies, Dramas, Thrillers   \n",
       "8803             Kids' TV, Korean TV Shows, TV Comedies   \n",
       "8804                            Comedies, Horror Movies   \n",
       "8805                 Children & Family Movies, Comedies   \n",
       "8806     Dramas, International Movies, Music & Musicals   \n",
       "\n",
       "                                            description  \n",
       "0     As her father nears the end of his life, filmm...  \n",
       "1     After crossing paths at a party, a Cape Town t...  \n",
       "2     To protect his family from a powerful drug lor...  \n",
       "3     Feuds, flirtations and toilet talk go down amo...  \n",
       "4     In a city of coaching centers known to train I...  \n",
       "...                                                 ...  \n",
       "8802  A political cartoonist, a crime reporter and a...  \n",
       "8803  While living alone in a spooky town, a young g...  \n",
       "8804  Looking to survive in a world taken over by zo...  \n",
       "8805  Dragged from civilian life, a former superhero...  \n",
       "8806  A scrappy but poor boy worms his way into a ty...  \n",
       "\n",
       "[8807 rows x 12 columns]"
      ]
     },
     "execution_count": 4,
     "metadata": {},
     "output_type": "execute_result"
    }
   ],
   "source": [
    "df"
   ]
  },
  {
   "cell_type": "markdown",
   "id": "016fa3cb",
   "metadata": {},
   "source": [
    "# Description of the data"
   ]
  },
  {
   "cell_type": "code",
   "execution_count": 5,
   "id": "7db13519",
   "metadata": {},
   "outputs": [
    {
     "data": {
      "text/html": [
       "<div>\n",
       "<style scoped>\n",
       "    .dataframe tbody tr th:only-of-type {\n",
       "        vertical-align: middle;\n",
       "    }\n",
       "\n",
       "    .dataframe tbody tr th {\n",
       "        vertical-align: top;\n",
       "    }\n",
       "\n",
       "    .dataframe thead th {\n",
       "        text-align: right;\n",
       "    }\n",
       "</style>\n",
       "<table border=\"1\" class=\"dataframe\">\n",
       "  <thead>\n",
       "    <tr style=\"text-align: right;\">\n",
       "      <th></th>\n",
       "      <th>release_year</th>\n",
       "    </tr>\n",
       "  </thead>\n",
       "  <tbody>\n",
       "    <tr>\n",
       "      <th>count</th>\n",
       "      <td>8807.000000</td>\n",
       "    </tr>\n",
       "    <tr>\n",
       "      <th>mean</th>\n",
       "      <td>2014.180198</td>\n",
       "    </tr>\n",
       "    <tr>\n",
       "      <th>std</th>\n",
       "      <td>8.819312</td>\n",
       "    </tr>\n",
       "    <tr>\n",
       "      <th>min</th>\n",
       "      <td>1925.000000</td>\n",
       "    </tr>\n",
       "    <tr>\n",
       "      <th>25%</th>\n",
       "      <td>2013.000000</td>\n",
       "    </tr>\n",
       "    <tr>\n",
       "      <th>50%</th>\n",
       "      <td>2017.000000</td>\n",
       "    </tr>\n",
       "    <tr>\n",
       "      <th>75%</th>\n",
       "      <td>2019.000000</td>\n",
       "    </tr>\n",
       "    <tr>\n",
       "      <th>max</th>\n",
       "      <td>2021.000000</td>\n",
       "    </tr>\n",
       "  </tbody>\n",
       "</table>\n",
       "</div>"
      ],
      "text/plain": [
       "       release_year\n",
       "count   8807.000000\n",
       "mean    2014.180198\n",
       "std        8.819312\n",
       "min     1925.000000\n",
       "25%     2013.000000\n",
       "50%     2017.000000\n",
       "75%     2019.000000\n",
       "max     2021.000000"
      ]
     },
     "execution_count": 5,
     "metadata": {},
     "output_type": "execute_result"
    }
   ],
   "source": [
    "df.describe()"
   ]
  },
  {
   "cell_type": "markdown",
   "id": "322a8892",
   "metadata": {},
   "source": [
    "-- This dataset consist of a single row with numerical values."
   ]
  },
  {
   "cell_type": "markdown",
   "id": "0d0f7516",
   "metadata": {},
   "source": [
    "# Information of the Data.\n"
   ]
  },
  {
   "cell_type": "code",
   "execution_count": 6,
   "id": "407d4f17",
   "metadata": {},
   "outputs": [
    {
     "name": "stdout",
     "output_type": "stream",
     "text": [
      "<class 'pandas.core.frame.DataFrame'>\n",
      "RangeIndex: 8807 entries, 0 to 8806\n",
      "Data columns (total 12 columns):\n",
      " #   Column        Non-Null Count  Dtype \n",
      "---  ------        --------------  ----- \n",
      " 0   show_id       8807 non-null   object\n",
      " 1   type          8807 non-null   object\n",
      " 2   title         8807 non-null   object\n",
      " 3   director      6173 non-null   object\n",
      " 4   cast          7982 non-null   object\n",
      " 5   country       7976 non-null   object\n",
      " 6   date_added    8797 non-null   object\n",
      " 7   release_year  8807 non-null   int64 \n",
      " 8   rating        8803 non-null   object\n",
      " 9   duration      8804 non-null   object\n",
      " 10  listed_in     8807 non-null   object\n",
      " 11  description   8807 non-null   object\n",
      "dtypes: int64(1), object(11)\n",
      "memory usage: 825.8+ KB\n"
     ]
    }
   ],
   "source": [
    "df.info()"
   ]
  },
  {
   "cell_type": "markdown",
   "id": "459f78d4",
   "metadata": {},
   "source": [
    "# Now we will see how many null values are there in the Data set.\n"
   ]
  },
  {
   "cell_type": "code",
   "execution_count": 7,
   "id": "d7611155",
   "metadata": {},
   "outputs": [
    {
     "data": {
      "text/plain": [
       "show_id            0\n",
       "type               0\n",
       "title              0\n",
       "director        2634\n",
       "cast             825\n",
       "country          831\n",
       "date_added        10\n",
       "release_year       0\n",
       "rating             4\n",
       "duration           3\n",
       "listed_in          0\n",
       "description        0\n",
       "dtype: int64"
      ]
     },
     "execution_count": 7,
     "metadata": {},
     "output_type": "execute_result"
    }
   ],
   "source": [
    "df.isnull().sum()"
   ]
  },
  {
   "cell_type": "markdown",
   "id": "4adf152a",
   "metadata": {},
   "source": [
    "**There are total 4307 null values present in the data set.**"
   ]
  },
  {
   "cell_type": "markdown",
   "id": "88b639d7",
   "metadata": {},
   "source": [
    "**Now we have to deal with these null values and we will remove them or replace them by some other value.**"
   ]
  },
  {
   "cell_type": "code",
   "execution_count": 8,
   "id": "f9f4a280",
   "metadata": {},
   "outputs": [],
   "source": [
    "df.director= df.director.fillna('unknown')"
   ]
  },
  {
   "cell_type": "code",
   "execution_count": 9,
   "id": "d286f53a",
   "metadata": {},
   "outputs": [],
   "source": [
    "df.cast=df.cast.fillna('unknow_cast')"
   ]
  },
  {
   "cell_type": "code",
   "execution_count": 10,
   "id": "ea07a07a",
   "metadata": {},
   "outputs": [],
   "source": [
    "df.country=df.country.fillna('null')"
   ]
  },
  {
   "cell_type": "code",
   "execution_count": 11,
   "id": "1a7484c4",
   "metadata": {},
   "outputs": [],
   "source": [
    "df.date_added=df.date_added.fillna('date_not_known')"
   ]
  },
  {
   "cell_type": "code",
   "execution_count": 12,
   "id": "7a574b24",
   "metadata": {},
   "outputs": [],
   "source": [
    "df.rating=df.rating.fillna('no_values')"
   ]
  },
  {
   "cell_type": "markdown",
   "id": "f1a8f6ba",
   "metadata": {},
   "source": [
    "**Dropping the null values of duration coloumn.**"
   ]
  },
  {
   "cell_type": "code",
   "execution_count": 13,
   "id": "671bcebe",
   "metadata": {},
   "outputs": [
    {
     "data": {
      "text/html": [
       "<div>\n",
       "<style scoped>\n",
       "    .dataframe tbody tr th:only-of-type {\n",
       "        vertical-align: middle;\n",
       "    }\n",
       "\n",
       "    .dataframe tbody tr th {\n",
       "        vertical-align: top;\n",
       "    }\n",
       "\n",
       "    .dataframe thead th {\n",
       "        text-align: right;\n",
       "    }\n",
       "</style>\n",
       "<table border=\"1\" class=\"dataframe\">\n",
       "  <thead>\n",
       "    <tr style=\"text-align: right;\">\n",
       "      <th></th>\n",
       "      <th>show_id</th>\n",
       "      <th>type</th>\n",
       "      <th>title</th>\n",
       "      <th>director</th>\n",
       "      <th>cast</th>\n",
       "      <th>country</th>\n",
       "      <th>date_added</th>\n",
       "      <th>release_year</th>\n",
       "      <th>rating</th>\n",
       "      <th>duration</th>\n",
       "      <th>listed_in</th>\n",
       "      <th>description</th>\n",
       "    </tr>\n",
       "  </thead>\n",
       "  <tbody>\n",
       "    <tr>\n",
       "      <th>0</th>\n",
       "      <td>s1</td>\n",
       "      <td>Movie</td>\n",
       "      <td>Dick Johnson Is Dead</td>\n",
       "      <td>Kirsten Johnson</td>\n",
       "      <td>unknow_cast</td>\n",
       "      <td>United States</td>\n",
       "      <td>September 25, 2021</td>\n",
       "      <td>2020</td>\n",
       "      <td>PG-13</td>\n",
       "      <td>90 min</td>\n",
       "      <td>Documentaries</td>\n",
       "      <td>As her father nears the end of his life, filmm...</td>\n",
       "    </tr>\n",
       "    <tr>\n",
       "      <th>1</th>\n",
       "      <td>s2</td>\n",
       "      <td>TV Show</td>\n",
       "      <td>Blood &amp; Water</td>\n",
       "      <td>unknown</td>\n",
       "      <td>Ama Qamata, Khosi Ngema, Gail Mabalane, Thaban...</td>\n",
       "      <td>South Africa</td>\n",
       "      <td>September 24, 2021</td>\n",
       "      <td>2021</td>\n",
       "      <td>TV-MA</td>\n",
       "      <td>2 Seasons</td>\n",
       "      <td>International TV Shows, TV Dramas, TV Mysteries</td>\n",
       "      <td>After crossing paths at a party, a Cape Town t...</td>\n",
       "    </tr>\n",
       "    <tr>\n",
       "      <th>2</th>\n",
       "      <td>s3</td>\n",
       "      <td>TV Show</td>\n",
       "      <td>Ganglands</td>\n",
       "      <td>Julien Leclercq</td>\n",
       "      <td>Sami Bouajila, Tracy Gotoas, Samuel Jouy, Nabi...</td>\n",
       "      <td>null</td>\n",
       "      <td>September 24, 2021</td>\n",
       "      <td>2021</td>\n",
       "      <td>TV-MA</td>\n",
       "      <td>1 Season</td>\n",
       "      <td>Crime TV Shows, International TV Shows, TV Act...</td>\n",
       "      <td>To protect his family from a powerful drug lor...</td>\n",
       "    </tr>\n",
       "    <tr>\n",
       "      <th>3</th>\n",
       "      <td>s4</td>\n",
       "      <td>TV Show</td>\n",
       "      <td>Jailbirds New Orleans</td>\n",
       "      <td>unknown</td>\n",
       "      <td>unknow_cast</td>\n",
       "      <td>null</td>\n",
       "      <td>September 24, 2021</td>\n",
       "      <td>2021</td>\n",
       "      <td>TV-MA</td>\n",
       "      <td>1 Season</td>\n",
       "      <td>Docuseries, Reality TV</td>\n",
       "      <td>Feuds, flirtations and toilet talk go down amo...</td>\n",
       "    </tr>\n",
       "    <tr>\n",
       "      <th>4</th>\n",
       "      <td>s5</td>\n",
       "      <td>TV Show</td>\n",
       "      <td>Kota Factory</td>\n",
       "      <td>unknown</td>\n",
       "      <td>Mayur More, Jitendra Kumar, Ranjan Raj, Alam K...</td>\n",
       "      <td>India</td>\n",
       "      <td>September 24, 2021</td>\n",
       "      <td>2021</td>\n",
       "      <td>TV-MA</td>\n",
       "      <td>2 Seasons</td>\n",
       "      <td>International TV Shows, Romantic TV Shows, TV ...</td>\n",
       "      <td>In a city of coaching centers known to train I...</td>\n",
       "    </tr>\n",
       "    <tr>\n",
       "      <th>...</th>\n",
       "      <td>...</td>\n",
       "      <td>...</td>\n",
       "      <td>...</td>\n",
       "      <td>...</td>\n",
       "      <td>...</td>\n",
       "      <td>...</td>\n",
       "      <td>...</td>\n",
       "      <td>...</td>\n",
       "      <td>...</td>\n",
       "      <td>...</td>\n",
       "      <td>...</td>\n",
       "      <td>...</td>\n",
       "    </tr>\n",
       "    <tr>\n",
       "      <th>8802</th>\n",
       "      <td>s8803</td>\n",
       "      <td>Movie</td>\n",
       "      <td>Zodiac</td>\n",
       "      <td>David Fincher</td>\n",
       "      <td>Mark Ruffalo, Jake Gyllenhaal, Robert Downey J...</td>\n",
       "      <td>United States</td>\n",
       "      <td>November 20, 2019</td>\n",
       "      <td>2007</td>\n",
       "      <td>R</td>\n",
       "      <td>158 min</td>\n",
       "      <td>Cult Movies, Dramas, Thrillers</td>\n",
       "      <td>A political cartoonist, a crime reporter and a...</td>\n",
       "    </tr>\n",
       "    <tr>\n",
       "      <th>8803</th>\n",
       "      <td>s8804</td>\n",
       "      <td>TV Show</td>\n",
       "      <td>Zombie Dumb</td>\n",
       "      <td>unknown</td>\n",
       "      <td>unknow_cast</td>\n",
       "      <td>null</td>\n",
       "      <td>July 1, 2019</td>\n",
       "      <td>2018</td>\n",
       "      <td>TV-Y7</td>\n",
       "      <td>2 Seasons</td>\n",
       "      <td>Kids' TV, Korean TV Shows, TV Comedies</td>\n",
       "      <td>While living alone in a spooky town, a young g...</td>\n",
       "    </tr>\n",
       "    <tr>\n",
       "      <th>8804</th>\n",
       "      <td>s8805</td>\n",
       "      <td>Movie</td>\n",
       "      <td>Zombieland</td>\n",
       "      <td>Ruben Fleischer</td>\n",
       "      <td>Jesse Eisenberg, Woody Harrelson, Emma Stone, ...</td>\n",
       "      <td>United States</td>\n",
       "      <td>November 1, 2019</td>\n",
       "      <td>2009</td>\n",
       "      <td>R</td>\n",
       "      <td>88 min</td>\n",
       "      <td>Comedies, Horror Movies</td>\n",
       "      <td>Looking to survive in a world taken over by zo...</td>\n",
       "    </tr>\n",
       "    <tr>\n",
       "      <th>8805</th>\n",
       "      <td>s8806</td>\n",
       "      <td>Movie</td>\n",
       "      <td>Zoom</td>\n",
       "      <td>Peter Hewitt</td>\n",
       "      <td>Tim Allen, Courteney Cox, Chevy Chase, Kate Ma...</td>\n",
       "      <td>United States</td>\n",
       "      <td>January 11, 2020</td>\n",
       "      <td>2006</td>\n",
       "      <td>PG</td>\n",
       "      <td>88 min</td>\n",
       "      <td>Children &amp; Family Movies, Comedies</td>\n",
       "      <td>Dragged from civilian life, a former superhero...</td>\n",
       "    </tr>\n",
       "    <tr>\n",
       "      <th>8806</th>\n",
       "      <td>s8807</td>\n",
       "      <td>Movie</td>\n",
       "      <td>Zubaan</td>\n",
       "      <td>Mozez Singh</td>\n",
       "      <td>Vicky Kaushal, Sarah-Jane Dias, Raaghav Chanan...</td>\n",
       "      <td>India</td>\n",
       "      <td>March 2, 2019</td>\n",
       "      <td>2015</td>\n",
       "      <td>TV-14</td>\n",
       "      <td>111 min</td>\n",
       "      <td>Dramas, International Movies, Music &amp; Musicals</td>\n",
       "      <td>A scrappy but poor boy worms his way into a ty...</td>\n",
       "    </tr>\n",
       "  </tbody>\n",
       "</table>\n",
       "<p>8804 rows × 12 columns</p>\n",
       "</div>"
      ],
      "text/plain": [
       "     show_id     type                  title         director  \\\n",
       "0         s1    Movie   Dick Johnson Is Dead  Kirsten Johnson   \n",
       "1         s2  TV Show          Blood & Water          unknown   \n",
       "2         s3  TV Show              Ganglands  Julien Leclercq   \n",
       "3         s4  TV Show  Jailbirds New Orleans          unknown   \n",
       "4         s5  TV Show           Kota Factory          unknown   \n",
       "...      ...      ...                    ...              ...   \n",
       "8802   s8803    Movie                 Zodiac    David Fincher   \n",
       "8803   s8804  TV Show            Zombie Dumb          unknown   \n",
       "8804   s8805    Movie             Zombieland  Ruben Fleischer   \n",
       "8805   s8806    Movie                   Zoom     Peter Hewitt   \n",
       "8806   s8807    Movie                 Zubaan      Mozez Singh   \n",
       "\n",
       "                                                   cast        country  \\\n",
       "0                                           unknow_cast  United States   \n",
       "1     Ama Qamata, Khosi Ngema, Gail Mabalane, Thaban...   South Africa   \n",
       "2     Sami Bouajila, Tracy Gotoas, Samuel Jouy, Nabi...           null   \n",
       "3                                           unknow_cast           null   \n",
       "4     Mayur More, Jitendra Kumar, Ranjan Raj, Alam K...          India   \n",
       "...                                                 ...            ...   \n",
       "8802  Mark Ruffalo, Jake Gyllenhaal, Robert Downey J...  United States   \n",
       "8803                                        unknow_cast           null   \n",
       "8804  Jesse Eisenberg, Woody Harrelson, Emma Stone, ...  United States   \n",
       "8805  Tim Allen, Courteney Cox, Chevy Chase, Kate Ma...  United States   \n",
       "8806  Vicky Kaushal, Sarah-Jane Dias, Raaghav Chanan...          India   \n",
       "\n",
       "              date_added  release_year rating   duration  \\\n",
       "0     September 25, 2021          2020  PG-13     90 min   \n",
       "1     September 24, 2021          2021  TV-MA  2 Seasons   \n",
       "2     September 24, 2021          2021  TV-MA   1 Season   \n",
       "3     September 24, 2021          2021  TV-MA   1 Season   \n",
       "4     September 24, 2021          2021  TV-MA  2 Seasons   \n",
       "...                  ...           ...    ...        ...   \n",
       "8802   November 20, 2019          2007      R    158 min   \n",
       "8803        July 1, 2019          2018  TV-Y7  2 Seasons   \n",
       "8804    November 1, 2019          2009      R     88 min   \n",
       "8805    January 11, 2020          2006     PG     88 min   \n",
       "8806       March 2, 2019          2015  TV-14    111 min   \n",
       "\n",
       "                                              listed_in  \\\n",
       "0                                         Documentaries   \n",
       "1       International TV Shows, TV Dramas, TV Mysteries   \n",
       "2     Crime TV Shows, International TV Shows, TV Act...   \n",
       "3                                Docuseries, Reality TV   \n",
       "4     International TV Shows, Romantic TV Shows, TV ...   \n",
       "...                                                 ...   \n",
       "8802                     Cult Movies, Dramas, Thrillers   \n",
       "8803             Kids' TV, Korean TV Shows, TV Comedies   \n",
       "8804                            Comedies, Horror Movies   \n",
       "8805                 Children & Family Movies, Comedies   \n",
       "8806     Dramas, International Movies, Music & Musicals   \n",
       "\n",
       "                                            description  \n",
       "0     As her father nears the end of his life, filmm...  \n",
       "1     After crossing paths at a party, a Cape Town t...  \n",
       "2     To protect his family from a powerful drug lor...  \n",
       "3     Feuds, flirtations and toilet talk go down amo...  \n",
       "4     In a city of coaching centers known to train I...  \n",
       "...                                                 ...  \n",
       "8802  A political cartoonist, a crime reporter and a...  \n",
       "8803  While living alone in a spooky town, a young g...  \n",
       "8804  Looking to survive in a world taken over by zo...  \n",
       "8805  Dragged from civilian life, a former superhero...  \n",
       "8806  A scrappy but poor boy worms his way into a ty...  \n",
       "\n",
       "[8804 rows x 12 columns]"
      ]
     },
     "execution_count": 13,
     "metadata": {},
     "output_type": "execute_result"
    }
   ],
   "source": [
    "df.dropna()"
   ]
  },
  {
   "cell_type": "markdown",
   "id": "51832cbf",
   "metadata": {},
   "source": [
    "**we have successfully removed all the null values from the dataset.**"
   ]
  },
  {
   "cell_type": "markdown",
   "id": "fa2a7be3",
   "metadata": {},
   "source": [
    "# Let us analyze the most show producing countries."
   ]
  },
  {
   "cell_type": "markdown",
   "id": "70c37055",
   "metadata": {},
   "source": [
    "**The top 10 countries producing maximum content are as followed-**"
   ]
  },
  {
   "cell_type": "code",
   "execution_count": 14,
   "id": "3b6bbd4e",
   "metadata": {},
   "outputs": [
    {
     "data": {
      "text/plain": [
       "United States     2818\n",
       "India              972\n",
       "null               831\n",
       "United Kingdom     419\n",
       "Japan              245\n",
       "South Korea        199\n",
       "Canada             181\n",
       "Spain              145\n",
       "France             124\n",
       "Mexico             110\n",
       "Name: country, dtype: int64"
      ]
     },
     "execution_count": 14,
     "metadata": {},
     "output_type": "execute_result"
    }
   ],
   "source": [
    "df.country.value_counts().head(10)"
   ]
  },
  {
   "cell_type": "markdown",
   "id": "7b2c373f",
   "metadata": {},
   "source": [
    "**which country released most of the shows and movies using Bar and Pie plots.**"
   ]
  },
  {
   "cell_type": "code",
   "execution_count": 15,
   "id": "8057cfbe",
   "metadata": {},
   "outputs": [
    {
     "data": {
      "text/plain": [
       "<AxesSubplot:xlabel='country'>"
      ]
     },
     "execution_count": 15,
     "metadata": {},
     "output_type": "execute_result"
    },
    {
     "data": {
      "image/png": "[encoded data removed]",
      "text/plain": [
       "<Figure size 432x288 with 1 Axes>"
      ]
     },
     "metadata": {
      "needs_background": "light"
     },
     "output_type": "display_data"
    }
   ],
   "source": [
    "sns.barplot(y=df.country.value_counts().head(10).index,x=df.country.value_counts().head(10))"
   ]
  },
  {
   "cell_type": "code",
   "execution_count": 16,
   "id": "a5937718",
   "metadata": {},
   "outputs": [
    {
     "data": {
      "image/png": "[encoded data removed]",
      "text/plain": [
       "<Figure size 432x288 with 1 Axes>"
      ]
     },
     "metadata": {},
     "output_type": "display_data"
    }
   ],
   "source": [
    "plt.pie(df.country.value_counts().head(5),labels=df.country.value_counts().head().index,startangle=90, autopct='%.1f%%')\n",
    "plt.legend(loc='upper left', title=\"Country\")\n",
    "plt.title('Visualising content produced by top 5 countries')\n",
    "plt.show()"
   ]
  },
  {
   "cell_type": "markdown",
   "id": "33aa2f69",
   "metadata": {},
   "source": [
    "## Observations and insights from the above derived graph:-\n",
    "1. USA id dominating the market of netflix by capturing the 53.3% area. This shows the dominance of both technology and talent.\n",
    "\n",
    "2. India has grown at a very steady rate after the formation of Bollywood industry and is at second in the list. The world is recognizing the Indian talent. India covers nearly 20% of the market.\n",
    "\n",
    "3. United Kingdom is on the third number with 8 percent of the netflix market and have produced 418 shows and movies.\n",
    "\n",
    "4. Japan is on the 4th number with 4.6 percent and 243 movies.A potential reason for this number could be explored in further research. Changes in viewer preferences, industry dynamics, or other factors might contribute to this observed decline.\n",
    "\n",
    "5. We can also see from the pie chart that there are 829 shows (app 15%)of which the entries of country are not known. The reason of this could be anything like Error of non-response, error of misinterpretation or error of sampling bias. Though the above unknown data entry also suggest that netflix serves as a platform of a diverse range of creators. irrespective of there societal standing or production scale. "
   ]
  },
  {
   "cell_type": "code",
   "execution_count": 17,
   "id": "4f0076cc",
   "metadata": {},
   "outputs": [
    {
     "data": {
      "text/plain": [
       "' April 15, 2018'"
      ]
     },
     "execution_count": 17,
     "metadata": {},
     "output_type": "execute_result"
    }
   ],
   "source": [
    "earliest_date = df['date_added'].min()\n",
    "earliest_date"
   ]
  },
  {
   "cell_type": "code",
   "execution_count": 18,
   "id": "dba5ec8e",
   "metadata": {},
   "outputs": [],
   "source": [
    "# Analysing the trend of release year."
   ]
  },
  {
   "cell_type": "code",
   "execution_count": 19,
   "id": "e41f0bda",
   "metadata": {},
   "outputs": [
    {
     "data": {
      "text/plain": [
       "<Figure size 1080x432 with 0 Axes>"
      ]
     },
     "execution_count": 19,
     "metadata": {},
     "output_type": "execute_result"
    },
    {
     "data": {
      "image/png": "[encoded data removed]",
      "text/plain": [
       "<Figure size 1080x432 with 1 Axes>"
      ]
     },
     "metadata": {
      "needs_background": "light"
     },
     "output_type": "display_data"
    },
    {
     "data": {
      "text/plain": [
       "<Figure size 1080x432 with 0 Axes>"
      ]
     },
     "metadata": {},
     "output_type": "display_data"
    }
   ],
   "source": [
    "plt.figure(figsize=(15,6))\n",
    "sns.countplot(x=df.release_year)\n",
    "plt.xticks(rotation=90)\n",
    "plt.title('content relase over the year')\n",
    "plt.xlabel('Release Year')\n",
    "plt.figure(figsize=(15,6))\n"
   ]
  },
  {
   "cell_type": "markdown",
   "id": "4c013332",
   "metadata": {},
   "source": [
    "# From the above graph we can interpret following results:-\n",
    "\n",
    "   1. From 1997 to 2014 there is a gradual increase in the release of                content.In these years there is a **boom in internet consumption and              therefore we can see the boom**.\n",
    "    \n",
    "   \n",
    "   2. **2015 was a big year for Netflix**.\n",
    "       To start, the video streaming behemoth dropped more than a dozen new,          original shows. Like these gems:\n",
    "\n",
    "       *The delightful Unbreakable Kimmy Schmidt*   \n",
    "       *Marvels gripping Jessica Jones*  \n",
    "       *Aziz Ansaris hilarious Master of None*\n",
    "    \n",
    "    \n",
    "   3. In 2016 to 2020 there was a **increase in Asia pacific cosumers**               therfore we can see a boom in netflix. \n",
    "  \n",
    "       \n",
    "   4. In year 2021 we can see the **graph going down because of the deadly \n",
    "        covid pandemic**.\n",
    "       "
   ]
  },
  {
   "cell_type": "markdown",
   "id": "839bc067",
   "metadata": {},
   "source": [
    "# Comparison between movies and TV show."
   ]
  },
  {
   "cell_type": "code",
   "execution_count": 20,
   "id": "d865c769",
   "metadata": {},
   "outputs": [
    {
     "data": {
      "text/html": [
       "<div>\n",
       "<style scoped>\n",
       "    .dataframe tbody tr th:only-of-type {\n",
       "        vertical-align: middle;\n",
       "    }\n",
       "\n",
       "    .dataframe tbody tr th {\n",
       "        vertical-align: top;\n",
       "    }\n",
       "\n",
       "    .dataframe thead th {\n",
       "        text-align: right;\n",
       "    }\n",
       "</style>\n",
       "<table border=\"1\" class=\"dataframe\">\n",
       "  <thead>\n",
       "    <tr style=\"text-align: right;\">\n",
       "      <th></th>\n",
       "      <th>index</th>\n",
       "      <th>type</th>\n",
       "    </tr>\n",
       "  </thead>\n",
       "  <tbody>\n",
       "    <tr>\n",
       "      <th>0</th>\n",
       "      <td>Movie</td>\n",
       "      <td>6131</td>\n",
       "    </tr>\n",
       "    <tr>\n",
       "      <th>1</th>\n",
       "      <td>TV Show</td>\n",
       "      <td>2676</td>\n",
       "    </tr>\n",
       "  </tbody>\n",
       "</table>\n",
       "</div>"
      ],
      "text/plain": [
       "     index  type\n",
       "0    Movie  6131\n",
       "1  TV Show  2676"
      ]
     },
     "execution_count": 20,
     "metadata": {},
     "output_type": "execute_result"
    }
   ],
   "source": [
    "df.type.value_counts().reset_index()"
   ]
  },
  {
   "cell_type": "code",
   "execution_count": 21,
   "id": "1dd5a199",
   "metadata": {},
   "outputs": [
    {
     "data": {
      "text/plain": [
       "<AxesSubplot:xlabel='type', ylabel='count'>"
      ]
     },
     "execution_count": 21,
     "metadata": {},
     "output_type": "execute_result"
    },
    {
     "data": {
      "image/png": "[encoded data removed]",
      "text/plain": [
       "<Figure size 432x288 with 1 Axes>"
      ]
     },
     "metadata": {
      "needs_background": "light"
     },
     "output_type": "display_data"
    }
   ],
   "source": [
    "sns.countplot(x=df.type)"
   ]
  },
  {
   "cell_type": "markdown",
   "id": "8a1fa350",
   "metadata": {},
   "source": [
    "There are total **6131 movies** and **2676 TV show** present on netflix based on given data set.\n",
    "Above is the Bar graph representing the same thing in drawings."
   ]
  },
  {
   "cell_type": "markdown",
   "id": "8d0767a8",
   "metadata": {},
   "source": [
    "# Rating Analysis"
   ]
  },
  {
   "cell_type": "code",
   "execution_count": 22,
   "id": "941cafae",
   "metadata": {},
   "outputs": [
    {
     "data": {
      "text/plain": [
       "TV-MA    3207\n",
       "TV-14    2160\n",
       "TV-PG     863\n",
       "R         799\n",
       "PG-13     490\n",
       "TV-Y7     334\n",
       "TV-Y      307\n",
       "PG        287\n",
       "TV-G      220\n",
       "NR         80\n",
       "Name: rating, dtype: int64"
      ]
     },
     "execution_count": 22,
     "metadata": {},
     "output_type": "execute_result"
    }
   ],
   "source": [
    "df.rating.value_counts().head(10)"
   ]
  },
  {
   "cell_type": "code",
   "execution_count": 23,
   "id": "4f68fddb",
   "metadata": {},
   "outputs": [
    {
     "data": {
      "text/plain": [
       "Text(0, 0.5, 'Counts')"
      ]
     },
     "execution_count": 23,
     "metadata": {},
     "output_type": "execute_result"
    },
    {
     "data": {
      "image/png": "[encoded data removed]",
      "text/plain": [
       "<Figure size 432x288 with 1 Axes>"
      ]
     },
     "metadata": {
      "needs_background": "light"
     },
     "output_type": "display_data"
    }
   ],
   "source": [
    "sns.barplot(y=df.rating.value_counts().head(10),x=df.rating.value_counts().head(10).index)\n",
    "plt.title('Rating Analysis')\n",
    "plt.xlabel('Rating')\n",
    "plt.ylabel('Counts')"
   ]
  },
  {
   "cell_type": "markdown",
   "id": "84862df7",
   "metadata": {},
   "source": [
    "-     **TV-MA (Matured Audience)**  \n",
    "         TV-MA leads the ratings with 3205 entries, demonstrating a significant          market for entertainment geared towards adults. Coarse language,                graphic or extreme violence, nudity, and explicit sexual content are            frequently included in this category. The large number indicates that          there is a sizable readership that is older than 18."
   ]
  },
  {
   "cell_type": "markdown",
   "id": "0baed08f",
   "metadata": {},
   "source": [
    "*   **TV-14(Parents Strongly cautioned)**  \n",
    "     Closely behind, TV-14 (2157 entries) denotes material for viewers 14 years      of age and up. These shows target a large teenage audience, since they may      contain content that parents deem inappropriate for children under the age      of fourteen. Purchasing material for this audience may be a wise strategic      move."
   ]
  },
  {
   "cell_type": "markdown",
   "id": "8615ce33",
   "metadata": {},
   "source": [
    "*   **TV-PG(Parental Guidance Suggested)**  \n",
    "     With 861 listings, TV-PG indicates material appropriate for kids with          parental supervision. This rating points to a strong family and kid            audience base. Netflix may take this into account when deciding how much        more family-friendly programming to offer.\n",
    "    "
   ]
  },
  {
   "cell_type": "markdown",
   "id": "8a03e4b8",
   "metadata": {},
   "source": [
    "*   **R(Restricted)**  \n",
    "    R-rated material (799 entries) is meant for viewers older than eighteen and     is not appropriate for younger audiences. The noteworthy number suggests       that adult viewers have a great appetite for mature entertainment with         dramatic sequences. Knowledge of this consumer behaviour can help direct       the creation of content"
   ]
  },
  {
   "cell_type": "markdown",
   "id": "7e2c2c80",
   "metadata": {},
   "source": [
    "*   **PG-13(Parents strongly cautioned)**  \n",
    "    With 490 entries, the PG-13 grade denotes content with a Parents Strongly       Cautioned warning because some of it might be too mature for young readers.     This implies that preteens and early adolescents have a noticeable need for     content that might involve bolder language, prolonged violence, sexual         encounters, or drug usage. Acknowledging this need enables Netflix to           provide material that is appropriate for a wide range of age groups."
   ]
  },
  {
   "cell_type": "markdown",
   "id": "15113907",
   "metadata": {},
   "source": [
    "*   **TV-Y(All Children)***  \n",
    "    TV-Y7, which has 333 entries, is aimed at older kids. The decreasing number     may be explained by a preference for information catered to a particular       age group or by a decreased emphasis on content creation for older kids."
   ]
  },
  {
   "cell_type": "markdown",
   "id": "5abe8b67",
   "metadata": {},
   "source": [
    "*   **PG(Parental Guidance)**  \n",
    "    With 287 entries, PG advises parental supervision. A shift in audience         preferences towards more mature or specialised content may have contributed     to the fall by lowering the demand for programming that calls for parental     supervision."
   ]
  },
  {
   "cell_type": "markdown",
   "id": "042dff98",
   "metadata": {},
   "source": [
    "*   **TV-G(Genral Audience)**   \n",
    "    A potential need for more specialised or age-specific content could lead to     a decline in TV-G, which has 220 entries for a broad audience, and a move       away from programming for general audiences."
   ]
  },
  {
   "cell_type": "markdown",
   "id": "cb201190",
   "metadata": {},
   "source": [
    "*   **NR(Not Rated)**  \n",
    "    With 79 entries classified as not rated (NR), the drop may be attributed to     a predilection for explicit-rated content, or it may simply reflect a           lesser portion of the content library overall."
   ]
  },
  {
   "cell_type": "markdown",
   "id": "4214fed9",
   "metadata": {},
   "source": [
    "**Falling viewership in these categories may be caused by shifting audience targets for particular content ratings, shifting production methods, or changing viewer tastes. Additional market research and analysis could yield a more thorough insight.**"
   ]
  },
  {
   "cell_type": "markdown",
   "id": "f69738da",
   "metadata": {},
   "source": [
    "<div class=\"alert alert-block alert-info\">\n",
    "<b>Insight:</b> These insights into viewer preferences based on ratings provide valuable information for Netflix to tailor its content strategy to meet diverse audience needs.\n",
    "</div>"
   ]
  },
  {
   "cell_type": "markdown",
   "id": "42478487",
   "metadata": {},
   "source": [
    "# Visualising the market share of rated audience."
   ]
  },
  {
   "cell_type": "code",
   "execution_count": 24,
   "id": "4c42b2b3",
   "metadata": {},
   "outputs": [
    {
     "data": {
      "image/png": "[encoded data removed]",
      "text/plain": [
       "<Figure size 432x288 with 1 Axes>"
      ]
     },
     "metadata": {},
     "output_type": "display_data"
    }
   ],
   "source": [
    "plt.pie(df.rating.value_counts().head(5),labels=df.rating.value_counts().head(5).index,autopct='%.1f%%')\n",
    "plt.show()"
   ]
  },
  {
   "cell_type": "markdown",
   "id": "a122b67d",
   "metadata": {},
   "source": [
    "<div class=\"alert alert-block alert-success\">\n",
    "<b>Insights:</b> TV-MA is the network with the biggest market share, accounting for about 42.7% of the top 5 ratings. This dominance demonstrates a sizable audience base for explicit and intense content and highlights the enormous demand for adult content.\n",
    "    \n",
    " TV-14 is in second place with a notable share, suggesting that viewers looking for content appropriate for viewers 14 years and older find it appealing. TV-MA and TV-14 together have a big impact on Netflix's content lineup.\n",
    "\n",
    "\n",
    "</div>"
   ]
  },
  {
   "cell_type": "markdown",
   "id": "94722e53",
   "metadata": {},
   "source": [
    "**Since India is a growing market, we can see their trends in context of rating.**"
   ]
  },
  {
   "cell_type": "code",
   "execution_count": 25,
   "id": "5bfb6619",
   "metadata": {},
   "outputs": [
    {
     "data": {
      "text/plain": [
       "TV-14    550\n",
       "TV-MA    248\n",
       "TV-PG    134\n",
       "TV-Y7     14\n",
       "TV-G       9\n",
       "Name: rating, dtype: int64"
      ]
     },
     "execution_count": 25,
     "metadata": {},
     "output_type": "execute_result"
    }
   ],
   "source": [
    "df[df.country=='India'].rating.value_counts().head()"
   ]
  },
  {
   "cell_type": "code",
   "execution_count": 26,
   "id": "14683211",
   "metadata": {},
   "outputs": [
    {
     "data": {
      "image/png": "[encoded data removed]",
      "text/plain": [
       "<Figure size 432x288 with 1 Axes>"
      ]
     },
     "metadata": {},
     "output_type": "display_data"
    }
   ],
   "source": [
    "plt.pie(df[df.country=='India'].rating.value_counts().head(3),labels=df[df.country=='India'].rating.value_counts().head(3).index,autopct='%.1f%%')\n",
    "\n",
    "plt.title('Rating Distribution in India')\n",
    "plt.legend()\n",
    "plt.show()"
   ]
  },
  {
   "cell_type": "markdown",
   "id": "36e262d9",
   "metadata": {},
   "source": [
    "**Rating Distribution in India**   \n",
    "- ### **TV-14**    \n",
    "    Almost 60 percent indians with 550 entries dominates this range of rating. This indicates a substantial demand for content suitable for viewers aged 14 and older who are teenager.\n",
    "- ### **TV-MA**   \n",
    "    TV-MA has 248 entries and 27 percent of the market share. This shows the demand of the matured audience group content, emphasizing the Indian market in this criteria.\n",
    "- ### **TV-PG**   \n",
    "    It indicates the audience segment in India that wants content suitable for children."
   ]
  },
  {
   "cell_type": "markdown",
   "id": "f497c867",
   "metadata": {},
   "source": [
    "# Duration Analysis"
   ]
  },
  {
   "cell_type": "code",
   "execution_count": 27,
   "id": "2b7dce86",
   "metadata": {},
   "outputs": [
    {
     "data": {
      "text/plain": [
       "1 Season     1793\n",
       "2 Seasons     425\n",
       "3 Seasons     199\n",
       "90 min        152\n",
       "94 min        146\n",
       "97 min        146\n",
       "93 min        146\n",
       "91 min        144\n",
       "95 min        137\n",
       "96 min        130\n",
       "Name: duration, dtype: int64"
      ]
     },
     "execution_count": 27,
     "metadata": {},
     "output_type": "execute_result"
    }
   ],
   "source": [
    "df.duration.value_counts().head(10)"
   ]
  },
  {
   "cell_type": "code",
   "execution_count": 28,
   "id": "ef8c4573",
   "metadata": {},
   "outputs": [
    {
     "data": {
      "text/plain": [
       "Text(0, 0.5, 'Duration')"
      ]
     },
     "execution_count": 28,
     "metadata": {},
     "output_type": "execute_result"
    },
    {
     "data": {
      "image/png": "[encoded data removed]",
      "text/plain": [
       "<Figure size 432x288 with 1 Axes>"
      ]
     },
     "metadata": {
      "needs_background": "light"
     },
     "output_type": "display_data"
    }
   ],
   "source": [
    "sns.barplot(x=df.duration.value_counts().head(15),y=df.duration.value_counts().head(15).index)\n",
    "plt.title('Duration Analysis')\n",
    "plt.xlabel('count')\n",
    "plt.ylabel('Duration')"
   ]
  },
  {
   "cell_type": "markdown",
   "id": "5bf819b9",
   "metadata": {},
   "source": [
    "--**From the above graph and we can see that series are preferred over the movies.**"
   ]
  },
  {
   "cell_type": "markdown",
   "id": "615babee",
   "metadata": {},
   "source": [
    "**Duration Analysis of India**"
   ]
  },
  {
   "cell_type": "code",
   "execution_count": 29,
   "id": "91474f13",
   "metadata": {},
   "outputs": [],
   "source": [
    "a=df[df.country=='India']"
   ]
  },
  {
   "cell_type": "code",
   "execution_count": 30,
   "id": "d2bf479e",
   "metadata": {},
   "outputs": [
    {
     "data": {
      "text/html": [
       "<div>\n",
       "<style scoped>\n",
       "    .dataframe tbody tr th:only-of-type {\n",
       "        vertical-align: middle;\n",
       "    }\n",
       "\n",
       "    .dataframe tbody tr th {\n",
       "        vertical-align: top;\n",
       "    }\n",
       "\n",
       "    .dataframe thead th {\n",
       "        text-align: right;\n",
       "    }\n",
       "</style>\n",
       "<table border=\"1\" class=\"dataframe\">\n",
       "  <thead>\n",
       "    <tr style=\"text-align: right;\">\n",
       "      <th></th>\n",
       "      <th>show_id</th>\n",
       "      <th>type</th>\n",
       "      <th>title</th>\n",
       "      <th>director</th>\n",
       "      <th>cast</th>\n",
       "      <th>country</th>\n",
       "      <th>date_added</th>\n",
       "      <th>release_year</th>\n",
       "      <th>rating</th>\n",
       "      <th>duration</th>\n",
       "      <th>listed_in</th>\n",
       "      <th>description</th>\n",
       "    </tr>\n",
       "  </thead>\n",
       "  <tbody>\n",
       "    <tr>\n",
       "      <th>4</th>\n",
       "      <td>s5</td>\n",
       "      <td>TV Show</td>\n",
       "      <td>Kota Factory</td>\n",
       "      <td>unknown</td>\n",
       "      <td>Mayur More, Jitendra Kumar, Ranjan Raj, Alam K...</td>\n",
       "      <td>India</td>\n",
       "      <td>September 24, 2021</td>\n",
       "      <td>2021</td>\n",
       "      <td>TV-MA</td>\n",
       "      <td>2 Seasons</td>\n",
       "      <td>International TV Shows, Romantic TV Shows, TV ...</td>\n",
       "      <td>In a city of coaching centers known to train I...</td>\n",
       "    </tr>\n",
       "    <tr>\n",
       "      <th>24</th>\n",
       "      <td>s25</td>\n",
       "      <td>Movie</td>\n",
       "      <td>Jeans</td>\n",
       "      <td>S. Shankar</td>\n",
       "      <td>Prashanth, Aishwarya Rai Bachchan, Sri Lakshmi...</td>\n",
       "      <td>India</td>\n",
       "      <td>September 21, 2021</td>\n",
       "      <td>1998</td>\n",
       "      <td>TV-14</td>\n",
       "      <td>166 min</td>\n",
       "      <td>Comedies, International Movies, Romantic Movies</td>\n",
       "      <td>When the father of the man she loves insists t...</td>\n",
       "    </tr>\n",
       "    <tr>\n",
       "      <th>39</th>\n",
       "      <td>s40</td>\n",
       "      <td>TV Show</td>\n",
       "      <td>Chhota Bheem</td>\n",
       "      <td>unknown</td>\n",
       "      <td>Vatsal Dubey, Julie Tejwani, Rupa Bhimani, Jig...</td>\n",
       "      <td>India</td>\n",
       "      <td>September 16, 2021</td>\n",
       "      <td>2021</td>\n",
       "      <td>TV-Y7</td>\n",
       "      <td>3 Seasons</td>\n",
       "      <td>Kids' TV</td>\n",
       "      <td>A brave, energetic little boy with superhuman ...</td>\n",
       "    </tr>\n",
       "    <tr>\n",
       "      <th>50</th>\n",
       "      <td>s51</td>\n",
       "      <td>TV Show</td>\n",
       "      <td>Dharmakshetra</td>\n",
       "      <td>unknown</td>\n",
       "      <td>Kashmira Irani, Chandan Anand, Dinesh Mehta, A...</td>\n",
       "      <td>India</td>\n",
       "      <td>September 15, 2021</td>\n",
       "      <td>2014</td>\n",
       "      <td>TV-PG</td>\n",
       "      <td>1 Season</td>\n",
       "      <td>International TV Shows, TV Dramas, TV Sci-Fi &amp;...</td>\n",
       "      <td>After the ancient Great War, the god Chitragup...</td>\n",
       "    </tr>\n",
       "    <tr>\n",
       "      <th>66</th>\n",
       "      <td>s67</td>\n",
       "      <td>TV Show</td>\n",
       "      <td>Raja Rasoi Aur Anya Kahaniyan</td>\n",
       "      <td>unknown</td>\n",
       "      <td>unknow_cast</td>\n",
       "      <td>India</td>\n",
       "      <td>September 15, 2021</td>\n",
       "      <td>2014</td>\n",
       "      <td>TV-G</td>\n",
       "      <td>1 Season</td>\n",
       "      <td>Docuseries, International TV Shows</td>\n",
       "      <td>Explore the history and flavors of regional In...</td>\n",
       "    </tr>\n",
       "    <tr>\n",
       "      <th>...</th>\n",
       "      <td>...</td>\n",
       "      <td>...</td>\n",
       "      <td>...</td>\n",
       "      <td>...</td>\n",
       "      <td>...</td>\n",
       "      <td>...</td>\n",
       "      <td>...</td>\n",
       "      <td>...</td>\n",
       "      <td>...</td>\n",
       "      <td>...</td>\n",
       "      <td>...</td>\n",
       "      <td>...</td>\n",
       "    </tr>\n",
       "    <tr>\n",
       "      <th>8773</th>\n",
       "      <td>s8774</td>\n",
       "      <td>Movie</td>\n",
       "      <td>Yanda Kartavya Aahe</td>\n",
       "      <td>Kedar Shinde</td>\n",
       "      <td>Ankush Choudhary, Smita Shewale, Mohan Joshi, ...</td>\n",
       "      <td>India</td>\n",
       "      <td>January 1, 2018</td>\n",
       "      <td>2006</td>\n",
       "      <td>TV-PG</td>\n",
       "      <td>151 min</td>\n",
       "      <td>Comedies, Dramas, International Movies</td>\n",
       "      <td>Thanks to an arranged marriage that was design...</td>\n",
       "    </tr>\n",
       "    <tr>\n",
       "      <th>8775</th>\n",
       "      <td>s8776</td>\n",
       "      <td>TV Show</td>\n",
       "      <td>Yeh Meri Family</td>\n",
       "      <td>unknown</td>\n",
       "      <td>Vishesh Bansal, Mona Singh, Akarsh Khurana, Ah...</td>\n",
       "      <td>India</td>\n",
       "      <td>August 31, 2018</td>\n",
       "      <td>2018</td>\n",
       "      <td>TV-PG</td>\n",
       "      <td>1 Season</td>\n",
       "      <td>International TV Shows, TV Comedies</td>\n",
       "      <td>In the summer of 1998, middle child Harshu bal...</td>\n",
       "    </tr>\n",
       "    <tr>\n",
       "      <th>8798</th>\n",
       "      <td>s8799</td>\n",
       "      <td>Movie</td>\n",
       "      <td>Zed Plus</td>\n",
       "      <td>Chandra Prakash Dwivedi</td>\n",
       "      <td>Adil Hussain, Mona Singh, K.K. Raina, Sanjay M...</td>\n",
       "      <td>India</td>\n",
       "      <td>December 31, 2019</td>\n",
       "      <td>2014</td>\n",
       "      <td>TV-MA</td>\n",
       "      <td>131 min</td>\n",
       "      <td>Comedies, Dramas, International Movies</td>\n",
       "      <td>A philandering small-town mechanic's political...</td>\n",
       "    </tr>\n",
       "    <tr>\n",
       "      <th>8799</th>\n",
       "      <td>s8800</td>\n",
       "      <td>Movie</td>\n",
       "      <td>Zenda</td>\n",
       "      <td>Avadhoot Gupte</td>\n",
       "      <td>Santosh Juvekar, Siddharth Chandekar, Sachit P...</td>\n",
       "      <td>India</td>\n",
       "      <td>February 15, 2018</td>\n",
       "      <td>2009</td>\n",
       "      <td>TV-14</td>\n",
       "      <td>120 min</td>\n",
       "      <td>Dramas, International Movies</td>\n",
       "      <td>A change in the leadership of a political part...</td>\n",
       "    </tr>\n",
       "    <tr>\n",
       "      <th>8806</th>\n",
       "      <td>s8807</td>\n",
       "      <td>Movie</td>\n",
       "      <td>Zubaan</td>\n",
       "      <td>Mozez Singh</td>\n",
       "      <td>Vicky Kaushal, Sarah-Jane Dias, Raaghav Chanan...</td>\n",
       "      <td>India</td>\n",
       "      <td>March 2, 2019</td>\n",
       "      <td>2015</td>\n",
       "      <td>TV-14</td>\n",
       "      <td>111 min</td>\n",
       "      <td>Dramas, International Movies, Music &amp; Musicals</td>\n",
       "      <td>A scrappy but poor boy worms his way into a ty...</td>\n",
       "    </tr>\n",
       "  </tbody>\n",
       "</table>\n",
       "<p>972 rows × 12 columns</p>\n",
       "</div>"
      ],
      "text/plain": [
       "     show_id     type                          title                 director  \\\n",
       "4         s5  TV Show                   Kota Factory                  unknown   \n",
       "24       s25    Movie                          Jeans               S. Shankar   \n",
       "39       s40  TV Show                   Chhota Bheem                  unknown   \n",
       "50       s51  TV Show                  Dharmakshetra                  unknown   \n",
       "66       s67  TV Show  Raja Rasoi Aur Anya Kahaniyan                  unknown   \n",
       "...      ...      ...                            ...                      ...   \n",
       "8773   s8774    Movie            Yanda Kartavya Aahe             Kedar Shinde   \n",
       "8775   s8776  TV Show                Yeh Meri Family                  unknown   \n",
       "8798   s8799    Movie                       Zed Plus  Chandra Prakash Dwivedi   \n",
       "8799   s8800    Movie                          Zenda           Avadhoot Gupte   \n",
       "8806   s8807    Movie                         Zubaan              Mozez Singh   \n",
       "\n",
       "                                                   cast country  \\\n",
       "4     Mayur More, Jitendra Kumar, Ranjan Raj, Alam K...   India   \n",
       "24    Prashanth, Aishwarya Rai Bachchan, Sri Lakshmi...   India   \n",
       "39    Vatsal Dubey, Julie Tejwani, Rupa Bhimani, Jig...   India   \n",
       "50    Kashmira Irani, Chandan Anand, Dinesh Mehta, A...   India   \n",
       "66                                          unknow_cast   India   \n",
       "...                                                 ...     ...   \n",
       "8773  Ankush Choudhary, Smita Shewale, Mohan Joshi, ...   India   \n",
       "8775  Vishesh Bansal, Mona Singh, Akarsh Khurana, Ah...   India   \n",
       "8798  Adil Hussain, Mona Singh, K.K. Raina, Sanjay M...   India   \n",
       "8799  Santosh Juvekar, Siddharth Chandekar, Sachit P...   India   \n",
       "8806  Vicky Kaushal, Sarah-Jane Dias, Raaghav Chanan...   India   \n",
       "\n",
       "              date_added  release_year rating   duration  \\\n",
       "4     September 24, 2021          2021  TV-MA  2 Seasons   \n",
       "24    September 21, 2021          1998  TV-14    166 min   \n",
       "39    September 16, 2021          2021  TV-Y7  3 Seasons   \n",
       "50    September 15, 2021          2014  TV-PG   1 Season   \n",
       "66    September 15, 2021          2014   TV-G   1 Season   \n",
       "...                  ...           ...    ...        ...   \n",
       "8773     January 1, 2018          2006  TV-PG    151 min   \n",
       "8775     August 31, 2018          2018  TV-PG   1 Season   \n",
       "8798   December 31, 2019          2014  TV-MA    131 min   \n",
       "8799   February 15, 2018          2009  TV-14    120 min   \n",
       "8806       March 2, 2019          2015  TV-14    111 min   \n",
       "\n",
       "                                              listed_in  \\\n",
       "4     International TV Shows, Romantic TV Shows, TV ...   \n",
       "24      Comedies, International Movies, Romantic Movies   \n",
       "39                                             Kids' TV   \n",
       "50    International TV Shows, TV Dramas, TV Sci-Fi &...   \n",
       "66                   Docuseries, International TV Shows   \n",
       "...                                                 ...   \n",
       "8773             Comedies, Dramas, International Movies   \n",
       "8775                International TV Shows, TV Comedies   \n",
       "8798             Comedies, Dramas, International Movies   \n",
       "8799                       Dramas, International Movies   \n",
       "8806     Dramas, International Movies, Music & Musicals   \n",
       "\n",
       "                                            description  \n",
       "4     In a city of coaching centers known to train I...  \n",
       "24    When the father of the man she loves insists t...  \n",
       "39    A brave, energetic little boy with superhuman ...  \n",
       "50    After the ancient Great War, the god Chitragup...  \n",
       "66    Explore the history and flavors of regional In...  \n",
       "...                                                 ...  \n",
       "8773  Thanks to an arranged marriage that was design...  \n",
       "8775  In the summer of 1998, middle child Harshu bal...  \n",
       "8798  A philandering small-town mechanic's political...  \n",
       "8799  A change in the leadership of a political part...  \n",
       "8806  A scrappy but poor boy worms his way into a ty...  \n",
       "\n",
       "[972 rows x 12 columns]"
      ]
     },
     "execution_count": 30,
     "metadata": {},
     "output_type": "execute_result"
    }
   ],
   "source": [
    "a # this new variable a is of India."
   ]
  },
  {
   "cell_type": "code",
   "execution_count": 31,
   "id": "856f1ae7",
   "metadata": {},
   "outputs": [
    {
     "data": {
      "text/html": [
       "<div>\n",
       "<style scoped>\n",
       "    .dataframe tbody tr th:only-of-type {\n",
       "        vertical-align: middle;\n",
       "    }\n",
       "\n",
       "    .dataframe tbody tr th {\n",
       "        vertical-align: top;\n",
       "    }\n",
       "\n",
       "    .dataframe thead th {\n",
       "        text-align: right;\n",
       "    }\n",
       "</style>\n",
       "<table border=\"1\" class=\"dataframe\">\n",
       "  <thead>\n",
       "    <tr style=\"text-align: right;\">\n",
       "      <th></th>\n",
       "      <th>index</th>\n",
       "      <th>duration</th>\n",
       "    </tr>\n",
       "  </thead>\n",
       "  <tbody>\n",
       "    <tr>\n",
       "      <th>0</th>\n",
       "      <td>1 Season</td>\n",
       "      <td>70</td>\n",
       "    </tr>\n",
       "    <tr>\n",
       "      <th>1</th>\n",
       "      <td>127 min</td>\n",
       "      <td>22</td>\n",
       "    </tr>\n",
       "    <tr>\n",
       "      <th>2</th>\n",
       "      <td>137 min</td>\n",
       "      <td>22</td>\n",
       "    </tr>\n",
       "    <tr>\n",
       "      <th>3</th>\n",
       "      <td>135 min</td>\n",
       "      <td>21</td>\n",
       "    </tr>\n",
       "    <tr>\n",
       "      <th>4</th>\n",
       "      <td>133 min</td>\n",
       "      <td>20</td>\n",
       "    </tr>\n",
       "    <tr>\n",
       "      <th>5</th>\n",
       "      <td>131 min</td>\n",
       "      <td>19</td>\n",
       "    </tr>\n",
       "    <tr>\n",
       "      <th>6</th>\n",
       "      <td>116 min</td>\n",
       "      <td>19</td>\n",
       "    </tr>\n",
       "    <tr>\n",
       "      <th>7</th>\n",
       "      <td>132 min</td>\n",
       "      <td>19</td>\n",
       "    </tr>\n",
       "    <tr>\n",
       "      <th>8</th>\n",
       "      <td>128 min</td>\n",
       "      <td>19</td>\n",
       "    </tr>\n",
       "    <tr>\n",
       "      <th>9</th>\n",
       "      <td>120 min</td>\n",
       "      <td>18</td>\n",
       "    </tr>\n",
       "  </tbody>\n",
       "</table>\n",
       "</div>"
      ],
      "text/plain": [
       "      index  duration\n",
       "0  1 Season        70\n",
       "1   127 min        22\n",
       "2   137 min        22\n",
       "3   135 min        21\n",
       "4   133 min        20\n",
       "5   131 min        19\n",
       "6   116 min        19\n",
       "7   132 min        19\n",
       "8   128 min        19\n",
       "9   120 min        18"
      ]
     },
     "execution_count": 31,
     "metadata": {},
     "output_type": "execute_result"
    }
   ],
   "source": [
    "a.duration.value_counts().head(10).reset_index()"
   ]
  },
  {
   "cell_type": "code",
   "execution_count": 32,
   "id": "7a64ad88",
   "metadata": {},
   "outputs": [
    {
     "data": {
      "text/plain": [
       "<AxesSubplot:xlabel='duration'>"
      ]
     },
     "execution_count": 32,
     "metadata": {},
     "output_type": "execute_result"
    },
    {
     "data": {
      "image/png": "[encoded data removed]",
      "text/plain": [
       "<Figure size 432x288 with 1 Axes>"
      ]
     },
     "metadata": {
      "needs_background": "light"
     },
     "output_type": "display_data"
    }
   ],
   "source": [
    "sns.barplot(x=a.duration.value_counts().head(10),y=a.duration.value_counts().head(10).index)"
   ]
  },
  {
   "cell_type": "markdown",
   "id": "972c7e6b",
   "metadata": {},
   "source": [
    "#### In India maximum people like the first season of the TV show which is quite concerning. The category of season 2 and season 3 are no where in the top 10 list which means that very few Indian are liking the sason 1 and then watching the further season. Netflix have to work on it."
   ]
  },
  {
   "cell_type": "markdown",
   "id": "11bbc488",
   "metadata": {},
   "source": [
    "# In which year most of the shows or movies are releasing in India."
   ]
  },
  {
   "cell_type": "code",
   "execution_count": 33,
   "id": "42b72eef",
   "metadata": {},
   "outputs": [
    {
     "data": {
      "text/plain": [
       "2017    101\n",
       "2018     94\n",
       "2019     87\n",
       "2020     75\n",
       "2016     73\n",
       "2015     62\n",
       "2013     54\n",
       "2014     51\n",
       "2012     38\n",
       "2010     35\n",
       "Name: release_year, dtype: int64"
      ]
     },
     "execution_count": 33,
     "metadata": {},
     "output_type": "execute_result"
    }
   ],
   "source": [
    "a.release_year.value_counts().head(10)"
   ]
  },
  {
   "cell_type": "markdown",
   "id": "ae45b0e8",
   "metadata": {},
   "source": [
    "#### Most releases in India were in year 2017 and in 2010-11 the number were close to 35-40. "
   ]
  },
  {
   "cell_type": "code",
   "execution_count": 34,
   "id": "c7447fa8",
   "metadata": {},
   "outputs": [
    {
     "data": {
      "text/plain": [
       "Text(0, 0.5, 'Counts')"
      ]
     },
     "execution_count": 34,
     "metadata": {},
     "output_type": "execute_result"
    },
    {
     "data": {
      "image/png": "[encoded data removed]",
      "text/plain": [
       "<Figure size 432x288 with 1 Axes>"
      ]
     },
     "metadata": {
      "needs_background": "light"
     },
     "output_type": "display_data"
    }
   ],
   "source": [
    "sns.barplot(y=a.release_year.value_counts().head(10),x=a.release_year.value_counts().head(10).index)\n",
    "plt.xlabel('Year of Release')\n",
    "plt.ylabel('Counts')"
   ]
  },
  {
   "cell_type": "markdown",
   "id": "ce0b739b",
   "metadata": {},
   "source": [
    "<div class=\"alert alert-block alert-success\">\n",
    "<b>Insights:</b> From the above graph we can see that before 2016 there was a very slow growth of netflix in the Indian market. Netflix was launched in India in 2016 but started operating and streaming content in India in April 2017. Netflix initially focused on the English-speaking audience in India who were interested in popular international TV series and Hollywood movies. However, after understanding the lingual diversity of India, Netflix started streaming vernacular content for the Indian audience. \n",
    "In partnership with leading local production houses, Netflix developed original content in vernacular languages for Indian consumers. Prominent production houses with whom Netflix partnered include T-Series, Red Chillies Entertainment, Pooja Entertainment, Viacom 18 Studios, Luv Films, Reliance Entertainment, RSVP Movies, Benaras Media Works, Maddock Films, Junglee Pictures, Balaji Telefilms and Matchbox Shots \n",
    "</div>"
   ]
  }
 ],
 "metadata": {
  "kernelspec": {
   "display_name": "Python 3 (ipykernel)",
   "language": "python",
   "name": "python3"
  },
  "language_info": {
   "codemirror_mode": {
    "name": "ipython",
    "version": 3
   },
   "file_extension": ".py",
   "mimetype": "text/x-python",
   "name": "python",
   "nbconvert_exporter": "python",
   "pygments_lexer": "ipython3",
   "version": "3.9.7"
  }
 },
 "nbformat": 4,
 "nbformat_minor": 5
}
